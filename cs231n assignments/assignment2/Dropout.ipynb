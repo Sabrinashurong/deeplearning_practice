{
 "cells": [
  {
   "cell_type": "markdown",
   "metadata": {},
   "source": [
    "# Dropout\n",
    "Dropout [1] is a technique for regularizing neural networks by randomly setting some features to zero during the forward pass. In this exercise you will implement a dropout layer and modify your fully-connected network to optionally use dropout.\n",
    "\n",
    "[1] Geoffrey E. Hinton et al, \"Improving neural networks by preventing co-adaptation of feature detectors\", arXiv 2012"
   ]
  },
  {
   "cell_type": "code",
   "execution_count": 1,
   "metadata": {
    "collapsed": false
   },
   "outputs": [
    {
     "name": "stdout",
     "output_type": "stream",
     "text": [
      "run the following from the cs231n directory and try again:\n",
      "python setup.py build_ext --inplace\n",
      "You may also need to restart your iPython kernel\n"
     ]
    },
    {
     "data": {
      "application/javascript": [
       "IPython.notebook.set_autosave_interval(0)"
      ]
     },
     "metadata": {},
     "output_type": "display_data"
    },
    {
     "name": "stdout",
     "output_type": "stream",
     "text": [
      "Autosave disabled\n"
     ]
    }
   ],
   "source": [
    "# As usual, a bit of setup\n",
    "\n",
    "import time\n",
    "import numpy as np\n",
    "import matplotlib.pyplot as plt\n",
    "from cs231n.classifiers.fc_net import *\n",
    "from cs231n.data_utils import get_CIFAR10_data\n",
    "from cs231n.gradient_check import eval_numerical_gradient, eval_numerical_gradient_array\n",
    "from cs231n.solver import Solver\n",
    "\n",
    "%matplotlib inline\n",
    "plt.rcParams['figure.figsize'] = (10.0, 8.0) # set default size of plots\n",
    "plt.rcParams['image.interpolation'] = 'nearest'\n",
    "plt.rcParams['image.cmap'] = 'gray'\n",
    "\n",
    "# for auto-reloading external modules\n",
    "# see http://stackoverflow.com/questions/1907993/autoreload-of-modules-in-ipython\n",
    "%load_ext autoreload\n",
    "%autoreload 2\n",
    "%autosave 0\n",
    "\n",
    "def rel_error(x, y):\n",
    "  \"\"\" returns relative error \"\"\"\n",
    "  return np.max(np.abs(x - y) / (np.maximum(1e-8, np.abs(x) + np.abs(y))))"
   ]
  },
  {
   "cell_type": "code",
   "execution_count": 3,
   "metadata": {
    "collapsed": false
   },
   "outputs": [
    {
     "ename": "AttributeError",
     "evalue": "'dict' object has no attribute 'iteritems'",
     "output_type": "error",
     "traceback": [
      "\u001b[0;31m---------------------------------------------------------------------------\u001b[0m",
      "\u001b[0;31mAttributeError\u001b[0m                            Traceback (most recent call last)",
      "\u001b[0;32m<ipython-input-3-efc5fa367211>\u001b[0m in \u001b[0;36m<module>\u001b[0;34m()\u001b[0m\n\u001b[1;32m      2\u001b[0m \u001b[0;34m\u001b[0m\u001b[0m\n\u001b[1;32m      3\u001b[0m \u001b[0mdata\u001b[0m \u001b[0;34m=\u001b[0m \u001b[0mget_CIFAR10_data\u001b[0m\u001b[0;34m(\u001b[0m\u001b[0;34m)\u001b[0m\u001b[0;34m\u001b[0m\u001b[0m\n\u001b[0;32m----> 4\u001b[0;31m \u001b[0;32mfor\u001b[0m \u001b[0mk\u001b[0m\u001b[0;34m,\u001b[0m \u001b[0mv\u001b[0m \u001b[0;32min\u001b[0m \u001b[0mdata\u001b[0m\u001b[0;34m.\u001b[0m\u001b[0miteritems\u001b[0m\u001b[0;34m(\u001b[0m\u001b[0;34m)\u001b[0m\u001b[0;34m:\u001b[0m\u001b[0;34m\u001b[0m\u001b[0m\n\u001b[0m\u001b[1;32m      5\u001b[0m   \u001b[0mprint\u001b[0m\u001b[0;34m(\u001b[0m\u001b[0;34m'%s: '\u001b[0m \u001b[0;34m%\u001b[0m \u001b[0mk\u001b[0m\u001b[0;34m,\u001b[0m \u001b[0mv\u001b[0m\u001b[0;34m.\u001b[0m\u001b[0mshape\u001b[0m\u001b[0;34m)\u001b[0m\u001b[0;34m\u001b[0m\u001b[0m\n",
      "\u001b[0;31mAttributeError\u001b[0m: 'dict' object has no attribute 'iteritems'"
     ]
    }
   ],
   "source": [
    "# Load the (preprocessed) CIFAR10 data.\n",
    "\n",
    "data = get_CIFAR10_data()\n",
    "for k, v in data.iteritems():\n",
    "  print('%s: ' % k, v.shape)"
   ]
  },
  {
   "cell_type": "markdown",
   "metadata": {},
   "source": [
    "# Dropout forward pass\n",
    "In the file `cs231n/layers.py`, implement the forward pass for dropout. Since dropout behaves differently during training and testing, make sure to implement the operation for both modes.\n",
    "\n",
    "Once you have done so, run the cell below to test your implementation."
   ]
  },
  {
   "cell_type": "code",
   "execution_count": 5,
   "metadata": {
    "collapsed": false
   },
   "outputs": [
    {
     "name": "stdout",
     "output_type": "stream",
     "text": [
      "Running tests with p =  0.3\n",
      "Mean of input:  10.0003999811\n",
      "Mean of train-time output:  7.0124445137\n",
      "Mean of test-time output:  10.0003999811\n",
      "Fraction of train-time output set to zero:  0.298764\n",
      "Fraction of test-time output set to zero:  0.0\n",
      "\n",
      "Running tests with p =  0.6\n",
      "Mean of input:  10.0003999811\n",
      "Mean of train-time output:  4.00547772665\n",
      "Mean of test-time output:  10.0003999811\n",
      "Fraction of train-time output set to zero:  0.599392\n",
      "Fraction of test-time output set to zero:  0.0\n",
      "\n",
      "Running tests with p =  0.75\n",
      "Mean of input:  10.0003999811\n",
      "Mean of train-time output:  2.50638564005\n",
      "Mean of test-time output:  10.0003999811\n",
      "Fraction of train-time output set to zero:  0.749364\n",
      "Fraction of test-time output set to zero:  0.0\n",
      "\n"
     ]
    }
   ],
   "source": [
    "x = np.random.randn(500, 500) + 10\n",
    "\n",
    "for p in [0.3, 0.6, 0.75]:\n",
    "  out, _ = dropout_forward(x, {'mode': 'train', 'p': p})\n",
    "  out_test, _ = dropout_forward(x, {'mode': 'test', 'p': p})\n",
    "\n",
    "  print('Running tests with p = ', p)\n",
    "  print('Mean of input: ', x.mean())\n",
    "  print('Mean of train-time output: ', out.mean())\n",
    "  print('Mean of test-time output: ', out_test.mean())\n",
    "  print('Fraction of train-time output set to zero: ', (out == 0).mean())\n",
    "  print('Fraction of test-time output set to zero: ', (out_test == 0).mean())\n",
    "  print()"
   ]
  },
  {
   "cell_type": "markdown",
   "metadata": {},
   "source": [
    "# Dropout backward pass\n",
    "In the file `cs231n/layers.py`, implement the backward pass for dropout. After doing so, run the following cell to numerically gradient-check your implementation."
   ]
  },
  {
   "cell_type": "code",
   "execution_count": 6,
   "metadata": {
    "collapsed": false
   },
   "outputs": [
    {
     "name": "stdout",
     "output_type": "stream",
     "text": [
      "dx relative error:  1.89289648607e-11\n"
     ]
    }
   ],
   "source": [
    "x = np.random.randn(10, 10) + 10\n",
    "dout = np.random.randn(*x.shape)\n",
    "\n",
    "dropout_param = {'mode': 'train', 'p': 0.8, 'seed': 123}\n",
    "out, cache = dropout_forward(x, dropout_param)\n",
    "dx = dropout_backward(dout, cache)\n",
    "dx_num = eval_numerical_gradient_array(lambda xx: dropout_forward(xx, dropout_param)[0], x, dout)\n",
    "\n",
    "print('dx relative error: ', rel_error(dx, dx_num))"
   ]
  },
  {
   "cell_type": "markdown",
   "metadata": {},
   "source": [
    "# Fully-connected nets with Dropout\n",
    "In the file `cs231n/classifiers/fc_net.py`, modify your implementation to use dropout. Specificially, if the constructor the the net receives a nonzero value for the `dropout` parameter, then the net should add dropout immediately after every ReLU nonlinearity. After doing so, run the following to numerically gradient-check your implementation."
   ]
  },
  {
   "cell_type": "code",
   "execution_count": 8,
   "metadata": {
    "collapsed": false
   },
   "outputs": [
    {
     "name": "stdout",
     "output_type": "stream",
     "text": [
      "Running check with dropout =  0\n",
      "Initial loss:  2.30786584242\n",
      "W1 relative error: 3.41e-07\n",
      "W2 relative error: 2.41e-07\n",
      "W3 relative error: 3.86e-07\n",
      "b1 relative error: 6.31e-08\n",
      "b2 relative error: 1.00e+00\n",
      "b3 relative error: 1.16e-10\n",
      "\n",
      "Running check with dropout =  0.25\n",
      "Initial loss:  2.30378382857\n",
      "W1 relative error: 1.98e-07\n",
      "W2 relative error: 7.49e-08\n",
      "W3 relative error: 9.43e-08\n",
      "b1 relative error: 2.07e-08\n",
      "b2 relative error: 3.35e-09\n",
      "b3 relative error: 1.33e-10\n",
      "\n",
      "Running check with dropout =  0.5\n",
      "Initial loss:  2.30185886477\n",
      "W1 relative error: 1.66e-06\n",
      "W2 relative error: 1.21e-07\n",
      "W3 relative error: 9.53e-08\n",
      "b1 relative error: 2.69e-08\n",
      "b2 relative error: 1.12e-08\n",
      "b3 relative error: 1.09e-10\n",
      "\n"
     ]
    }
   ],
   "source": [
    "N, D, H1, H2, C = 2, 15, 20, 30, 10\n",
    "X = np.random.randn(N, D)\n",
    "y = np.random.randint(C, size=(N,))\n",
    "\n",
    "for dropout in [0, 0.25, 0.5]:\n",
    "  print('Running check with dropout = ', dropout)\n",
    "  model = FullyConnectedNet([H1, H2], input_dim=D, num_classes=C,\n",
    "                            weight_scale=5e-2, dtype=np.float64,\n",
    "                            dropout=dropout, seed=123)\n",
    "\n",
    "  loss, grads = model.loss(X, y)\n",
    "  print('Initial loss: ', loss)\n",
    "\n",
    "  for name in sorted(grads):\n",
    "    f = lambda _: model.loss(X, y)[0]\n",
    "    grad_num = eval_numerical_gradient(f, model.params[name], verbose=False, h=1e-5)\n",
    "    print('%s relative error: %.2e' % (name, rel_error(grad_num, grads[name])))\n",
    "  print()"
   ]
  },
  {
   "cell_type": "markdown",
   "metadata": {},
   "source": [
    "# Regularization experiment\n",
    "As an experiment, we will train a pair of two-layer networks on 500 training examples: one will use no dropout, and one will use a dropout probability of 0.75. We will then visualize the training and validation accuracies of the two networks over time."
   ]
  },
  {
   "cell_type": "code",
   "execution_count": 11,
   "metadata": {
    "collapsed": false,
    "scrolled": false
   },
   "outputs": [
    {
     "name": "stdout",
     "output_type": "stream",
     "text": [
      "0\n",
      "(Iteration 1 / 125) loss: 7.875809\n",
      "(Epoch 0 / 25) train acc: 0.102000; val_acc: 0.109000\n",
      "(Epoch 1 / 25) train acc: 0.112000; val_acc: 0.121000\n",
      "(Epoch 2 / 25) train acc: 0.132000; val_acc: 0.138000\n",
      "(Epoch 3 / 25) train acc: 0.156000; val_acc: 0.149000\n",
      "(Epoch 4 / 25) train acc: 0.184000; val_acc: 0.152000\n",
      "(Epoch 5 / 25) train acc: 0.216000; val_acc: 0.158000\n",
      "(Epoch 6 / 25) train acc: 0.240000; val_acc: 0.167000\n",
      "(Epoch 7 / 25) train acc: 0.288000; val_acc: 0.168000\n",
      "(Epoch 8 / 25) train acc: 0.318000; val_acc: 0.168000\n",
      "(Epoch 9 / 25) train acc: 0.348000; val_acc: 0.178000\n",
      "(Epoch 10 / 25) train acc: 0.368000; val_acc: 0.189000\n",
      "(Epoch 11 / 25) train acc: 0.396000; val_acc: 0.192000\n",
      "(Epoch 12 / 25) train acc: 0.398000; val_acc: 0.187000\n",
      "(Epoch 13 / 25) train acc: 0.428000; val_acc: 0.194000\n",
      "(Epoch 14 / 25) train acc: 0.452000; val_acc: 0.198000\n",
      "(Epoch 15 / 25) train acc: 0.472000; val_acc: 0.190000\n",
      "(Epoch 16 / 25) train acc: 0.504000; val_acc: 0.200000\n",
      "(Epoch 17 / 25) train acc: 0.516000; val_acc: 0.198000\n",
      "(Epoch 18 / 25) train acc: 0.544000; val_acc: 0.205000\n",
      "(Epoch 19 / 25) train acc: 0.564000; val_acc: 0.218000\n",
      "(Epoch 20 / 25) train acc: 0.600000; val_acc: 0.218000\n",
      "(Iteration 101 / 125) loss: 1.657106\n",
      "(Epoch 21 / 25) train acc: 0.608000; val_acc: 0.217000\n",
      "(Epoch 22 / 25) train acc: 0.632000; val_acc: 0.217000\n",
      "(Epoch 23 / 25) train acc: 0.642000; val_acc: 0.211000\n",
      "(Epoch 24 / 25) train acc: 0.666000; val_acc: 0.204000\n",
      "(Epoch 25 / 25) train acc: 0.680000; val_acc: 0.205000\n",
      "0.75\n",
      "(Iteration 1 / 125) loss: 4.708127\n",
      "(Epoch 0 / 25) train acc: 0.088000; val_acc: 0.111000\n",
      "(Epoch 1 / 25) train acc: 0.094000; val_acc: 0.114000\n",
      "(Epoch 2 / 25) train acc: 0.100000; val_acc: 0.112000\n",
      "(Epoch 3 / 25) train acc: 0.108000; val_acc: 0.119000\n",
      "(Epoch 4 / 25) train acc: 0.122000; val_acc: 0.134000\n",
      "(Epoch 5 / 25) train acc: 0.144000; val_acc: 0.150000\n",
      "(Epoch 6 / 25) train acc: 0.170000; val_acc: 0.162000\n",
      "(Epoch 7 / 25) train acc: 0.186000; val_acc: 0.174000\n",
      "(Epoch 8 / 25) train acc: 0.200000; val_acc: 0.172000\n",
      "(Epoch 9 / 25) train acc: 0.210000; val_acc: 0.177000\n",
      "(Epoch 10 / 25) train acc: 0.222000; val_acc: 0.183000\n",
      "(Epoch 11 / 25) train acc: 0.244000; val_acc: 0.190000\n",
      "(Epoch 12 / 25) train acc: 0.254000; val_acc: 0.201000\n",
      "(Epoch 13 / 25) train acc: 0.262000; val_acc: 0.207000\n",
      "(Epoch 14 / 25) train acc: 0.268000; val_acc: 0.215000\n",
      "(Epoch 15 / 25) train acc: 0.278000; val_acc: 0.219000\n",
      "(Epoch 16 / 25) train acc: 0.296000; val_acc: 0.224000\n",
      "(Epoch 17 / 25) train acc: 0.312000; val_acc: 0.228000\n",
      "(Epoch 18 / 25) train acc: 0.322000; val_acc: 0.231000\n",
      "(Epoch 19 / 25) train acc: 0.334000; val_acc: 0.234000\n",
      "(Epoch 20 / 25) train acc: 0.346000; val_acc: 0.243000\n",
      "(Iteration 101 / 125) loss: 3.340272\n",
      "(Epoch 21 / 25) train acc: 0.360000; val_acc: 0.245000\n",
      "(Epoch 22 / 25) train acc: 0.368000; val_acc: 0.248000\n",
      "(Epoch 23 / 25) train acc: 0.374000; val_acc: 0.248000\n",
      "(Epoch 24 / 25) train acc: 0.390000; val_acc: 0.254000\n",
      "(Epoch 25 / 25) train acc: 0.396000; val_acc: 0.255000\n"
     ]
    }
   ],
   "source": [
    "# Train two identical nets, one with dropout and one without\n",
    "\n",
    "num_train = 500\n",
    "small_data = {\n",
    "  'X_train': data['X_train'][:num_train],\n",
    "  'y_train': data['y_train'][:num_train],\n",
    "  'X_val': data['X_val'],\n",
    "  'y_val': data['y_val'],\n",
    "}\n",
    "\n",
    "solvers = {}\n",
    "dropout_choices = [0, 0.75]\n",
    "for dropout in dropout_choices:\n",
    "  model = FullyConnectedNet([500], dropout=dropout)\n",
    "  print(dropout)\n",
    "\n",
    "  solver = Solver(model, small_data,\n",
    "                  num_epochs=25, batch_size=100,\n",
    "                  update_rule='adam',\n",
    "                  optim_config={\n",
    "                    'learning_rate': 5e-6,\n",
    "                  },\n",
    "                  verbose=True, print_every=100)\n",
    "  solver.train()\n",
    "  solvers[dropout] = solver"
   ]
  },
  {
   "cell_type": "code",
   "execution_count": 12,
   "metadata": {
    "collapsed": false
   },
   "outputs": [
    {
     "data": {
      "image/png": "[encoded data removed]",
      "text/plain": [
       "<matplotlib.figure.Figure at 0x7fc4b2101588>"
      ]
     },
     "metadata": {},
     "output_type": "display_data"
    }
   ],
   "source": [
    "# Plot train and validation accuracies of the two models\n",
    "\n",
    "train_accs = []\n",
    "val_accs = []\n",
    "for dropout in dropout_choices:\n",
    "  solver = solvers[dropout]\n",
    "  train_accs.append(solver.train_acc_history[-1])\n",
    "  val_accs.append(solver.val_acc_history[-1])\n",
    "\n",
    "plt.subplot(3, 1, 1)\n",
    "for dropout in dropout_choices:\n",
    "  plt.plot(solvers[dropout].train_acc_history, 'o', label='%.2f dropout' % dropout)\n",
    "plt.title('Train accuracy')\n",
    "plt.xlabel('Epoch')\n",
    "plt.ylabel('Accuracy')\n",
    "plt.legend(ncol=2, loc='lower right')\n",
    "  \n",
    "plt.subplot(3, 1, 2)\n",
    "for dropout in dropout_choices:\n",
    "  plt.plot(solvers[dropout].val_acc_history, 'o', label='%.2f dropout' % dropout)\n",
    "plt.title('Val accuracy')\n",
    "plt.xlabel('Epoch')\n",
    "plt.ylabel('Accuracy')\n",
    "plt.legend(ncol=2, loc='lower right')\n",
    "\n",
    "plt.gcf().set_size_inches(15, 15)\n",
    "plt.show()"
   ]
  },
  {
   "cell_type": "markdown",
   "metadata": {},
   "source": [
    "# Question\n",
    "Explain what you see in this experiment. What does it suggest about dropout?"
   ]
  },
  {
   "cell_type": "markdown",
   "metadata": {},
   "source": [
    "# Answer\n",
    "Dropout hurts training accuracy but models trained with dropout generalize better, especially after enough epochs of training."
   ]
  },
  {
   "cell_type": "code",
   "execution_count": null,
   "metadata": {
    "collapsed": true
   },
   "outputs": [],
   "source": []
  }
 ],
 "metadata": {
  "kernelspec": {
   "display_name": "Python 3",
   "language": "python",
   "name": "python3"
  },
  "language_info": {
   "codemirror_mode": {
    "name": "ipython",
    "version": 3
   },
   "file_extension": ".py",
   "mimetype": "text/x-python",
   "name": "python",
   "nbconvert_exporter": "python",
   "pygments_lexer": "ipython3",
   "version": "3.4.3"
  }
 },
 "nbformat": 4,
 "nbformat_minor": 0
}
