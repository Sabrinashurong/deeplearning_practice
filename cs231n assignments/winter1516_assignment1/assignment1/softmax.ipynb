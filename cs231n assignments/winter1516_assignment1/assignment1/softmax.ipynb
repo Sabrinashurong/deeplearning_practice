{
 "cells": [
  {
   "cell_type": "markdown",
   "metadata": {},
   "source": [
    "# Softmax exercise\n",
    "\n",
    "*Complete and hand in this completed worksheet (including its outputs and any supporting code outside of the worksheet) with your assignment submission. For more details see the [assignments page](http://vision.stanford.edu/teaching/cs231n/assignments.html) on the course website.*\n",
    "\n",
    "This exercise is analogous to the SVM exercise. You will:\n",
    "\n",
    "- implement a fully-vectorized **loss function** for the Softmax classifier\n",
    "- implement the fully-vectorized expression for its **analytic gradient**\n",
    "- **check your implementation** with numerical gradient\n",
    "- use a validation set to **tune the learning rate and regularization** strength\n",
    "- **optimize** the loss function with **SGD**\n",
    "- **visualize** the final learned weights\n"
   ]
  },
  {
   "cell_type": "code",
   "execution_count": 1,
   "metadata": {
    "collapsed": false
   },
   "outputs": [
    {
     "data": {
      "application/javascript": [
       "IPython.notebook.set_autosave_interval(0)"
      ]
     },
     "metadata": {},
     "output_type": "display_data"
    },
    {
     "name": "stdout",
     "output_type": "stream",
     "text": [
      "Autosave disabled\n"
     ]
    }
   ],
   "source": [
    "import random\n",
    "import numpy as np\n",
    "from cs231n.data_utils import load_CIFAR10\n",
    "import matplotlib.pyplot as plt\n",
    "%matplotlib inline\n",
    "plt.rcParams['figure.figsize'] = (10.0, 8.0) # set default size of plots\n",
    "plt.rcParams['image.interpolation'] = 'nearest'\n",
    "plt.rcParams['image.cmap'] = 'gray'\n",
    "\n",
    "# for auto-reloading extenrnal modules\n",
    "# see http://stackoverflow.com/questions/1907993/autoreload-of-modules-in-ipython\n",
    "%load_ext autoreload\n",
    "%autoreload 2\n",
    "%autosave 0"
   ]
  },
  {
   "cell_type": "code",
   "execution_count": 2,
   "metadata": {
    "collapsed": false
   },
   "outputs": [
    {
     "name": "stdout",
     "output_type": "stream",
     "text": [
      "Train data shape:  (49000, 3073)\n",
      "Train labels shape:  (49000,)\n",
      "Validation data shape:  (1000, 3073)\n",
      "Validation labels shape:  (1000,)\n",
      "Test data shape:  (1000, 3073)\n",
      "Test labels shape:  (1000,)\n",
      "dev data shape:  (500, 3073)\n",
      "dev labels shape:  (500,)\n"
     ]
    }
   ],
   "source": [
    "def get_CIFAR10_data(num_training=49000, num_validation=1000, num_test=1000, num_dev=500):\n",
    "  \"\"\"\n",
    "  Load the CIFAR-10 dataset from disk and perform preprocessing to prepare\n",
    "  it for the linear classifier. These are the same steps as we used for the\n",
    "  SVM, but condensed to a single function.  \n",
    "  \"\"\"\n",
    "  # Load the raw CIFAR-10 data\n",
    "  cifar10_dir = 'cs231n/datasets/cifar-10-batches-py'\n",
    "  X_train, y_train, X_test, y_test = load_CIFAR10(cifar10_dir)\n",
    "  \n",
    "  # subsample the data\n",
    "  mask = range(num_training, num_training + num_validation)\n",
    "  X_val = X_train[mask]\n",
    "  y_val = y_train[mask]\n",
    "  mask = range(num_training)\n",
    "  X_train = X_train[mask]\n",
    "  y_train = y_train[mask]\n",
    "  mask = range(num_test)\n",
    "  X_test = X_test[mask]\n",
    "  y_test = y_test[mask]\n",
    "  mask = np.random.choice(num_training, num_dev, replace=False)\n",
    "  X_dev = X_train[mask]\n",
    "  y_dev = y_train[mask]\n",
    "  \n",
    "  # Preprocessing: reshape the image data into rows\n",
    "  X_train = np.reshape(X_train, (X_train.shape[0], -1))\n",
    "  X_val = np.reshape(X_val, (X_val.shape[0], -1))\n",
    "  X_test = np.reshape(X_test, (X_test.shape[0], -1))\n",
    "  X_dev = np.reshape(X_dev, (X_dev.shape[0], -1))\n",
    "  \n",
    "  # Normalize the data: subtract the mean image\n",
    "  mean_image = np.mean(X_train, axis = 0)\n",
    "  X_train -= mean_image\n",
    "  X_val -= mean_image\n",
    "  X_test -= mean_image\n",
    "  X_dev -= mean_image\n",
    "  \n",
    "  # add bias dimension and transform into columns\n",
    "  X_train = np.hstack([X_train, np.ones((X_train.shape[0], 1))])\n",
    "  X_val = np.hstack([X_val, np.ones((X_val.shape[0], 1))])\n",
    "  X_test = np.hstack([X_test, np.ones((X_test.shape[0], 1))])\n",
    "  X_dev = np.hstack([X_dev, np.ones((X_dev.shape[0], 1))])\n",
    "  \n",
    "  return X_train, y_train, X_val, y_val, X_test, y_test, X_dev, y_dev\n",
    "\n",
    "\n",
    "# Invoke the above function to get our data.\n",
    "X_train, y_train, X_val, y_val, X_test, y_test, X_dev, y_dev = get_CIFAR10_data()\n",
    "print('Train data shape: ', X_train.shape)\n",
    "print('Train labels shape: ', y_train.shape)\n",
    "print('Validation data shape: ', X_val.shape)\n",
    "print('Validation labels shape: ', y_val.shape)\n",
    "print('Test data shape: ', X_test.shape)\n",
    "print('Test labels shape: ', y_test.shape)\n",
    "print('dev data shape: ', X_dev.shape)\n",
    "print('dev labels shape: ', y_dev.shape)"
   ]
  },
  {
   "cell_type": "markdown",
   "metadata": {},
   "source": [
    "## Softmax Classifier\n",
    "\n",
    "Your code for this section will all be written inside **cs231n/classifiers/softmax.py**. \n"
   ]
  },
  {
   "cell_type": "code",
   "execution_count": 4,
   "metadata": {
    "collapsed": false
   },
   "outputs": [
    {
     "name": "stdout",
     "output_type": "stream",
     "text": [
      "loss: 2.264134\n",
      "sanity check: 2.302585\n"
     ]
    }
   ],
   "source": [
    "# First implement the naive softmax loss function with nested loops.\n",
    "# Open the file cs231n/classifiers/softmax.py and implement the\n",
    "# softmax_loss_naive function.\n",
    "# import importlib\n",
    "# import cs231n.classifiers.softmax\n",
    "# importlib.reload(cs231n.classifiers.softmax)\n",
    "from cs231n.classifiers.softmax import softmax_loss_naive\n",
    "import time\n",
    "\n",
    "# Generate a random softmax weight matrix and use it to compute the loss.\n",
    "W = np.random.randn(3073, 10) * 0.0001\n",
    "loss, grad = softmax_loss_naive(W, X_dev, y_dev, 0.0)\n",
    "\n",
    "# As a rough sanity check, our loss should be something close to -log(0.1).\n",
    "print('loss: %f' % loss)\n",
    "print('sanity check: %f' % (-np.log(0.1)))"
   ]
  },
  {
   "cell_type": "code",
   "execution_count": 16,
   "metadata": {
    "collapsed": false
   },
   "outputs": [
    {
     "data": {
      "text/plain": [
       "2.3025850929940455"
      ]
     },
     "execution_count": 16,
     "metadata": {},
     "output_type": "execute_result"
    }
   ],
   "source": [
    "-np.log(0.1)"
   ]
  },
  {
   "cell_type": "markdown",
   "metadata": {},
   "source": [
    "## Inline Question 1:\n",
    "Why do we expect our loss to be close to -log(0.1)? Explain briefly.**\n",
    "\n",
    "**Your answer:** *Fill this in*\n"
   ]
  },
  {
   "cell_type": "code",
   "execution_count": 5,
   "metadata": {
    "collapsed": false
   },
   "outputs": [
    {
     "name": "stdout",
     "output_type": "stream",
     "text": [
      "numerical: -2.966462 analytic: -2.966462, relative error: 2.561905e-09\n",
      "numerical: 1.247254 analytic: 1.247254, relative error: 3.391526e-08\n",
      "numerical: 0.153353 analytic: 0.153353, relative error: 2.058233e-07\n",
      "numerical: -2.324739 analytic: -2.324740, relative error: 7.030891e-08\n",
      "numerical: -3.725099 analytic: -3.725100, relative error: 2.896506e-08\n",
      "numerical: -2.271224 analytic: -2.271224, relative error: 2.534760e-09\n",
      "numerical: -2.966998 analytic: -2.966998, relative error: 1.549392e-09\n",
      "numerical: -0.109356 analytic: -0.109356, relative error: 2.769883e-07\n",
      "numerical: -1.773503 analytic: -1.773503, relative error: 1.869447e-08\n",
      "numerical: 0.618913 analytic: 0.618913, relative error: 1.107300e-08\n",
      "numerical: -2.305471 analytic: -2.305471, relative error: 6.389916e-08\n",
      "numerical: -1.589754 analytic: -1.589754, relative error: 2.535650e-08\n",
      "numerical: -0.722279 analytic: -0.722279, relative error: 2.587644e-08\n",
      "numerical: 0.744095 analytic: 0.744095, relative error: 4.280641e-08\n",
      "numerical: -0.462500 analytic: -0.462500, relative error: 6.542266e-08\n",
      "numerical: 0.271591 analytic: 0.271591, relative error: 1.138953e-07\n",
      "numerical: -0.989516 analytic: -0.989517, relative error: 5.999534e-08\n",
      "numerical: -0.813193 analytic: -0.813193, relative error: 4.720350e-08\n",
      "numerical: 3.121698 analytic: 3.121698, relative error: 1.197456e-08\n",
      "numerical: -0.420836 analytic: -0.420836, relative error: 3.680680e-08\n"
     ]
    }
   ],
   "source": [
    "# Complete the implementation of softmax_loss_naive and implement a (naive)\n",
    "# version of the gradient that uses nested loops.\n",
    "loss, grad = softmax_loss_naive(W, X_dev, y_dev, 0.0)\n",
    "\n",
    "# As we did for the SVM, use numeric gradient checking as a debugging tool.\n",
    "# The numeric gradient should be close to the analytic gradient.\n",
    "from cs231n.gradient_check import grad_check_sparse\n",
    "f = lambda w: softmax_loss_naive(w, X_dev, y_dev, 0.0)[0]\n",
    "grad_numerical = grad_check_sparse(f, W, grad, 10)\n",
    "\n",
    "# similar to SVM case, do another gradient check with regularization\n",
    "loss, grad = softmax_loss_naive(W, X_dev, y_dev, 1e2)\n",
    "f = lambda w: softmax_loss_naive(w, X_dev, y_dev, 1e2)[0]\n",
    "grad_numerical = grad_check_sparse(f, W, grad, 10)"
   ]
  },
  {
   "cell_type": "code",
   "execution_count": 11,
   "metadata": {
    "collapsed": false
   },
   "outputs": [
    {
     "name": "stdout",
     "output_type": "stream",
     "text": [
      "naive loss: 2.264134e+00 computed in 0.116243s\n",
      "vectorized loss: 2.264134e+00 computed in 0.013116s\n",
      "Loss difference: 0.000000\n",
      "Gradient difference: 0.000000\n"
     ]
    }
   ],
   "source": [
    "# Now that we have a naive implementation of the softmax loss function and its gradient,\n",
    "# implement a vectorized version in softmax_loss_vectorized.\n",
    "# The two versions should compute the same results, but the vectorized version should be\n",
    "# much faster.\n",
    "tic = time.time()\n",
    "loss_naive, grad_naive = softmax_loss_naive(W, X_dev, y_dev, 0.00001)\n",
    "toc = time.time()\n",
    "print('naive loss: %e computed in %fs' % (loss_naive, toc - tic))\n",
    "\n",
    "from cs231n.classifiers.softmax import softmax_loss_vectorized\n",
    "tic = time.time()\n",
    "loss_vectorized, grad_vectorized = softmax_loss_vectorized(W, X_dev, y_dev, 0.00001)\n",
    "toc = time.time()\n",
    "print('vectorized loss: %e computed in %fs' % (loss_vectorized, toc - tic))\n",
    "\n",
    "# As we did for the SVM, we use the Frobenius norm to compare the two versions\n",
    "# of the gradient.\n",
    "grad_difference = np.linalg.norm(grad_naive - grad_vectorized, ord='fro')\n",
    "print('Loss difference: %f' % np.abs(loss_naive - loss_vectorized))\n",
    "print('Gradient difference: %f' % grad_difference)"
   ]
  },
  {
   "cell_type": "code",
   "execution_count": 13,
   "metadata": {
    "collapsed": false
   },
   "outputs": [
    {
     "name": "stdout",
     "output_type": "stream",
     "text": [
      "lr 1.000000e-07 reg 5.000000e-04 train accuracy: 0.320510 val accuracy: 0.343000\n",
      "lr 1.000000e-07 reg 1.111111e+04 train accuracy: 0.318857 val accuracy: 0.335000\n",
      "lr 1.000000e-07 reg 2.222222e+04 train accuracy: 0.321286 val accuracy: 0.332000\n",
      "lr 1.000000e-07 reg 3.333333e+04 train accuracy: 0.318061 val accuracy: 0.343000\n",
      "lr 1.000000e-07 reg 4.444444e+04 train accuracy: 0.320918 val accuracy: 0.330000\n",
      "lr 1.000000e-07 reg 5.555556e+04 train accuracy: 0.317898 val accuracy: 0.324000\n",
      "lr 1.000000e-07 reg 6.666667e+04 train accuracy: 0.315061 val accuracy: 0.326000\n",
      "lr 1.000000e-07 reg 7.777778e+04 train accuracy: 0.318469 val accuracy: 0.337000\n",
      "lr 1.000000e-07 reg 8.888889e+04 train accuracy: 0.321653 val accuracy: 0.328000\n",
      "lr 1.000000e-07 reg 1.000000e+05 train accuracy: 0.322592 val accuracy: 0.329000\n",
      "lr 1.111112e-01 reg 5.000000e-04 train accuracy: 0.322469 val accuracy: 0.329000\n",
      "lr 1.111112e-01 reg 1.111111e+04 train accuracy: 0.320878 val accuracy: 0.340000\n",
      "lr 1.111112e-01 reg 2.222222e+04 train accuracy: 0.315898 val accuracy: 0.329000\n",
      "lr 1.111112e-01 reg 3.333333e+04 train accuracy: 0.323490 val accuracy: 0.345000\n",
      "lr 1.111112e-01 reg 4.444444e+04 train accuracy: 0.319408 val accuracy: 0.337000\n",
      "lr 1.111112e-01 reg 5.555556e+04 train accuracy: 0.322224 val accuracy: 0.346000\n",
      "lr 1.111112e-01 reg 6.666667e+04 train accuracy: 0.322653 val accuracy: 0.333000\n",
      "lr 1.111112e-01 reg 7.777778e+04 train accuracy: 0.324755 val accuracy: 0.347000\n",
      "lr 1.111112e-01 reg 8.888889e+04 train accuracy: 0.323204 val accuracy: 0.341000\n",
      "lr 1.111112e-01 reg 1.000000e+05 train accuracy: 0.323592 val accuracy: 0.336000\n",
      "lr 2.222223e-01 reg 5.000000e-04 train accuracy: 0.317857 val accuracy: 0.335000\n",
      "lr 2.222223e-01 reg 1.111111e+04 train accuracy: 0.318837 val accuracy: 0.329000\n",
      "lr 2.222223e-01 reg 2.222222e+04 train accuracy: 0.325449 val accuracy: 0.328000\n",
      "lr 2.222223e-01 reg 3.333333e+04 train accuracy: 0.321367 val accuracy: 0.343000\n",
      "lr 2.222223e-01 reg 4.444444e+04 train accuracy: 0.322735 val accuracy: 0.331000\n",
      "lr 2.222223e-01 reg 5.555556e+04 train accuracy: 0.320000 val accuracy: 0.326000\n",
      "lr 2.222223e-01 reg 6.666667e+04 train accuracy: 0.322714 val accuracy: 0.327000\n",
      "lr 2.222223e-01 reg 7.777778e+04 train accuracy: 0.316531 val accuracy: 0.346000\n",
      "lr 2.222223e-01 reg 8.888889e+04 train accuracy: 0.317204 val accuracy: 0.331000\n",
      "lr 2.222223e-01 reg 1.000000e+05 train accuracy: 0.321347 val accuracy: 0.332000\n",
      "lr 3.333334e-01 reg 5.000000e-04 train accuracy: 0.324592 val accuracy: 0.354000\n",
      "lr 3.333334e-01 reg 1.111111e+04 train accuracy: 0.325265 val accuracy: 0.338000\n",
      "lr 3.333334e-01 reg 2.222222e+04 train accuracy: 0.320000 val accuracy: 0.339000\n",
      "lr 3.333334e-01 reg 3.333333e+04 train accuracy: 0.316714 val accuracy: 0.331000\n",
      "lr 3.333334e-01 reg 4.444444e+04 train accuracy: 0.323551 val accuracy: 0.346000\n",
      "lr 3.333334e-01 reg 5.555556e+04 train accuracy: 0.318980 val accuracy: 0.334000\n",
      "lr 3.333334e-01 reg 6.666667e+04 train accuracy: 0.324878 val accuracy: 0.347000\n",
      "lr 3.333334e-01 reg 7.777778e+04 train accuracy: 0.321837 val accuracy: 0.319000\n",
      "lr 3.333334e-01 reg 8.888889e+04 train accuracy: 0.321469 val accuracy: 0.333000\n",
      "lr 3.333334e-01 reg 1.000000e+05 train accuracy: 0.324857 val accuracy: 0.339000\n",
      "lr 4.444445e-01 reg 5.000000e-04 train accuracy: 0.324306 val accuracy: 0.326000\n",
      "lr 4.444445e-01 reg 1.111111e+04 train accuracy: 0.318204 val accuracy: 0.321000\n",
      "lr 4.444445e-01 reg 2.222222e+04 train accuracy: 0.321735 val accuracy: 0.333000\n",
      "lr 4.444445e-01 reg 3.333333e+04 train accuracy: 0.322714 val accuracy: 0.325000\n",
      "lr 4.444445e-01 reg 4.444444e+04 train accuracy: 0.325918 val accuracy: 0.336000\n",
      "lr 4.444445e-01 reg 5.555556e+04 train accuracy: 0.322367 val accuracy: 0.332000\n",
      "lr 4.444445e-01 reg 6.666667e+04 train accuracy: 0.319633 val accuracy: 0.336000\n",
      "lr 4.444445e-01 reg 7.777778e+04 train accuracy: 0.323837 val accuracy: 0.341000\n",
      "lr 4.444445e-01 reg 8.888889e+04 train accuracy: 0.320327 val accuracy: 0.333000\n",
      "lr 4.444445e-01 reg 1.000000e+05 train accuracy: 0.324163 val accuracy: 0.332000\n",
      "lr 5.555556e-01 reg 5.000000e-04 train accuracy: 0.324980 val accuracy: 0.336000\n",
      "lr 5.555556e-01 reg 1.111111e+04 train accuracy: 0.317694 val accuracy: 0.324000\n",
      "lr 5.555556e-01 reg 2.222222e+04 train accuracy: 0.323531 val accuracy: 0.336000\n",
      "lr 5.555556e-01 reg 3.333333e+04 train accuracy: 0.316714 val accuracy: 0.325000\n",
      "lr 5.555556e-01 reg 4.444444e+04 train accuracy: 0.321265 val accuracy: 0.324000\n",
      "lr 5.555556e-01 reg 5.555556e+04 train accuracy: 0.323122 val accuracy: 0.337000\n",
      "lr 5.555556e-01 reg 6.666667e+04 train accuracy: 0.317878 val accuracy: 0.342000\n",
      "lr 5.555556e-01 reg 7.777778e+04 train accuracy: 0.319306 val accuracy: 0.345000\n",
      "lr 5.555556e-01 reg 8.888889e+04 train accuracy: 0.319122 val accuracy: 0.335000\n",
      "lr 5.555556e-01 reg 1.000000e+05 train accuracy: 0.318388 val accuracy: 0.338000\n",
      "lr 6.666667e-01 reg 5.000000e-04 train accuracy: 0.320898 val accuracy: 0.341000\n",
      "lr 6.666667e-01 reg 1.111111e+04 train accuracy: 0.317633 val accuracy: 0.321000\n",
      "lr 6.666667e-01 reg 2.222222e+04 train accuracy: 0.316061 val accuracy: 0.317000\n",
      "lr 6.666667e-01 reg 3.333333e+04 train accuracy: 0.322531 val accuracy: 0.334000\n",
      "lr 6.666667e-01 reg 4.444444e+04 train accuracy: 0.320367 val accuracy: 0.329000\n",
      "lr 6.666667e-01 reg 5.555556e+04 train accuracy: 0.315000 val accuracy: 0.334000\n",
      "lr 6.666667e-01 reg 6.666667e+04 train accuracy: 0.319082 val accuracy: 0.334000\n",
      "lr 6.666667e-01 reg 7.777778e+04 train accuracy: 0.321673 val accuracy: 0.331000\n",
      "lr 6.666667e-01 reg 8.888889e+04 train accuracy: 0.316837 val accuracy: 0.329000\n",
      "lr 6.666667e-01 reg 1.000000e+05 train accuracy: 0.321286 val accuracy: 0.335000\n",
      "lr 7.777778e-01 reg 5.000000e-04 train accuracy: 0.315612 val accuracy: 0.322000\n",
      "lr 7.777778e-01 reg 1.111111e+04 train accuracy: 0.318143 val accuracy: 0.331000\n",
      "lr 7.777778e-01 reg 2.222222e+04 train accuracy: 0.319408 val accuracy: 0.335000\n",
      "lr 7.777778e-01 reg 3.333333e+04 train accuracy: 0.313776 val accuracy: 0.341000\n",
      "lr 7.777778e-01 reg 4.444444e+04 train accuracy: 0.322449 val accuracy: 0.326000\n",
      "lr 7.777778e-01 reg 5.555556e+04 train accuracy: 0.319265 val accuracy: 0.345000\n",
      "lr 7.777778e-01 reg 6.666667e+04 train accuracy: 0.320755 val accuracy: 0.337000\n",
      "lr 7.777778e-01 reg 7.777778e+04 train accuracy: 0.324327 val accuracy: 0.329000\n",
      "lr 7.777778e-01 reg 8.888889e+04 train accuracy: 0.322388 val accuracy: 0.337000\n",
      "lr 7.777778e-01 reg 1.000000e+05 train accuracy: 0.318898 val accuracy: 0.348000\n",
      "lr 8.888889e-01 reg 5.000000e-04 train accuracy: 0.317286 val accuracy: 0.338000\n",
      "lr 8.888889e-01 reg 1.111111e+04 train accuracy: 0.324980 val accuracy: 0.332000\n",
      "lr 8.888889e-01 reg 2.222222e+04 train accuracy: 0.321041 val accuracy: 0.336000\n",
      "lr 8.888889e-01 reg 3.333333e+04 train accuracy: 0.325327 val accuracy: 0.342000\n",
      "lr 8.888889e-01 reg 4.444444e+04 train accuracy: 0.319061 val accuracy: 0.348000\n",
      "lr 8.888889e-01 reg 5.555556e+04 train accuracy: 0.319265 val accuracy: 0.327000\n",
      "lr 8.888889e-01 reg 6.666667e+04 train accuracy: 0.323510 val accuracy: 0.335000\n",
      "lr 8.888889e-01 reg 7.777778e+04 train accuracy: 0.320816 val accuracy: 0.345000\n",
      "lr 8.888889e-01 reg 8.888889e+04 train accuracy: 0.321082 val accuracy: 0.332000\n",
      "lr 8.888889e-01 reg 1.000000e+05 train accuracy: 0.321041 val accuracy: 0.327000\n",
      "lr 1.000000e+00 reg 5.000000e-04 train accuracy: 0.316714 val accuracy: 0.334000\n",
      "lr 1.000000e+00 reg 1.111111e+04 train accuracy: 0.322082 val accuracy: 0.329000\n",
      "lr 1.000000e+00 reg 2.222222e+04 train accuracy: 0.317776 val accuracy: 0.331000\n",
      "lr 1.000000e+00 reg 3.333333e+04 train accuracy: 0.318837 val accuracy: 0.336000\n",
      "lr 1.000000e+00 reg 4.444444e+04 train accuracy: 0.314531 val accuracy: 0.332000\n",
      "lr 1.000000e+00 reg 5.555556e+04 train accuracy: 0.323878 val accuracy: 0.333000\n",
      "lr 1.000000e+00 reg 6.666667e+04 train accuracy: 0.319653 val accuracy: 0.340000\n",
      "lr 1.000000e+00 reg 7.777778e+04 train accuracy: 0.321020 val accuracy: 0.330000\n",
      "lr 1.000000e+00 reg 8.888889e+04 train accuracy: 0.315122 val accuracy: 0.334000\n",
      "lr 1.000000e+00 reg 1.000000e+05 train accuracy: 0.320959 val accuracy: 0.337000\n",
      "best validation accuracy achieved during cross-validation: 0.354000\n"
     ]
    }
   ],
   "source": [
    "# Use the validation set to tune hyperparameters (regularization strength and\n",
    "# learning rate). You should experiment with different ranges for the learning\n",
    "# rates and regularization strengths; if you are careful you should be able to\n",
    "# get a classification accuracy of over 0.35 on the validation set.\n",
    "from cs231n.classifiers import Softmax\n",
    "results = {}\n",
    "best_val = -1\n",
    "best_softmax = None\n",
    "#learning_rates = [1e-7, 5e-7]\n",
    "#regularization_strengths = [5e4, 1e8]\n",
    "learning_rates = np.linspace(1e-7, 1,num=10)\n",
    "regularization_strengths = np.linspace(5e-4, 1e5,num=10)\n",
    "\n",
    "################################################################################\n",
    "# TODO:                                                                        #\n",
    "# Use the validation set to set the learning rate and regularization strength. #\n",
    "# This should be identical to the validation that you did for the SVM; save    #\n",
    "# the best trained softmax classifer in best_softmax.                          #\n",
    "################################################################################\n",
    "for LR in learning_rates:\n",
    "    for RS in regularization_strengths:\n",
    "\n",
    "        softmax = Softmax()\n",
    "        softmax.train(X_train, y_train, learning_rate=1e-7, reg=5e4, num_iters=600, verbose=False)\n",
    "        y_train_pred = softmax.predict(X_train)\n",
    "        train_accuracy = np.mean(y_train == y_train_pred)\n",
    "        y_val_pred = softmax.predict(X_val)\n",
    "        valid_accuracy = np.mean(y_val == y_val_pred)\n",
    "    \n",
    "        results[(LR,RS)] = (train_accuracy,valid_accuracy)\n",
    "        \n",
    "        if valid_accuracy > best_val:\n",
    "            best_val = valid_accuracy\n",
    "            best_softmax = softmax\n",
    "\n",
    "################################################################################\n",
    "#                              END OF YOUR CODE                                #\n",
    "################################################################################\n",
    "    \n",
    "# Print out results.\n",
    "for lr, reg in sorted(results):\n",
    "    train_accuracy, val_accuracy = results[(lr, reg)]\n",
    "    print('lr %e reg %e train accuracy: %f val accuracy: %f' % (lr, reg, train_accuracy, val_accuracy))\n",
    "    \n",
    "print('best validation accuracy achieved during cross-validation: %f' % best_val)"
   ]
  },
  {
   "cell_type": "code",
   "execution_count": 14,
   "metadata": {
    "collapsed": false
   },
   "outputs": [
    {
     "name": "stdout",
     "output_type": "stream",
     "text": [
      "softmax on raw pixels final test set accuracy: 0.338000\n"
     ]
    }
   ],
   "source": [
    "# evaluate on test set\n",
    "# Evaluate the best softmax on test set\n",
    "y_test_pred = best_softmax.predict(X_test)\n",
    "test_accuracy = np.mean(y_test == y_test_pred)\n",
    "print('softmax on raw pixels final test set accuracy: %f' % (test_accuracy, ))"
   ]
  },
  {
   "cell_type": "code",
   "execution_count": 15,
   "metadata": {
    "collapsed": false
   },
   "outputs": [
    {
     "data": {
      "image/png": "[encoded data removed]",
      "text/plain": [
       "<matplotlib.figure.Figure at 0x7f39ad86ed68>"
      ]
     },
     "metadata": {},
     "output_type": "display_data"
    }
   ],
   "source": [
    "# Visualize the learned weights for each class\n",
    "w = best_softmax.W[:-1,:] # strip out the bias\n",
    "w = w.reshape(32, 32, 3, 10)\n",
    "\n",
    "w_min, w_max = np.min(w), np.max(w)\n",
    "\n",
    "classes = ['plane', 'car', 'bird', 'cat', 'deer', 'dog', 'frog', 'horse', 'ship', 'truck']\n",
    "for i in range(10):\n",
    "  plt.subplot(2, 5, i + 1)\n",
    "  \n",
    "  # Rescale the weights to be between 0 and 255\n",
    "  wimg = 255.0 * (w[:, :, :, i].squeeze() - w_min) / (w_max - w_min)\n",
    "  plt.imshow(wimg.astype('uint8'))\n",
    "  plt.axis('off')\n",
    "  plt.title(classes[i])"
   ]
  },
  {
   "cell_type": "code",
   "execution_count": null,
   "metadata": {
    "collapsed": true
   },
   "outputs": [],
   "source": []
  }
 ],
 "metadata": {
  "kernelspec": {
   "display_name": "Python 3",
   "language": "python",
   "name": "python3"
  },
  "language_info": {
   "codemirror_mode": {
    "name": "ipython",
    "version": 3
   },
   "file_extension": ".py",
   "mimetype": "text/x-python",
   "name": "python",
   "nbconvert_exporter": "python",
   "pygments_lexer": "ipython3",
   "version": "3.4.3"
  }
 },
 "nbformat": 4,
 "nbformat_minor": 0
}
