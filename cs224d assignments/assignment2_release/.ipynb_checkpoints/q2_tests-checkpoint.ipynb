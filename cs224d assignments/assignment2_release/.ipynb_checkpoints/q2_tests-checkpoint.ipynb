{
 "cells": [
  {
   "cell_type": "code",
   "execution_count": 1,
   "metadata": {
    "collapsed": true
   },
   "outputs": [],
   "source": [
    "import numpy as np\n",
    "import tensorflow as tf"
   ]
  },
  {
   "cell_type": "code",
   "execution_count": 7,
   "metadata": {
    "collapsed": false
   },
   "outputs": [],
   "source": [
    "def xavier_weight_init():\n",
    "  \"\"\"\n",
    "  Returns function that creates random tensor. \n",
    "\n",
    "  The specified function will take in a shape (tuple or 1-d array) and must\n",
    "  return a random tensor of the specified shape and must be drawn from the\n",
    "  Xavier initialization distribution.\n",
    "\n",
    "  Hint: You might find tf.random_uniform useful.\n",
    "  \"\"\"\n",
    "  def _xavier_initializer(shape, **kwargs):\n",
    "    \"\"\"Defines an initializer for the Xavier distribution.\n",
    "\n",
    "    This function will be used as a variable scope initializer.\n",
    "\n",
    "    https://www.tensorflow.org/versions/r0.7/how_tos/variable_scope/index.html#initializers-in-variable-scope\n",
    "\n",
    "    Args:\n",
    "      shape: Tuple or 1-d array that species dimensions of requested tensor.\n",
    "    Returns:\n",
    "      out: tf.Tensor of specified shape sampled from Xavier distribution.\n",
    "    \"\"\"\n",
    "    ### YOUR CODE HERE\n",
    "    epsilon = np.sqrt(6.0 / sum(shape))\n",
    "    return tf.random_uniform(shape, -epsilon, epsilon)\n",
    "    ### END YOUR CODE\n",
    "    return out\n",
    "  # Returns defined initializer function.\n",
    "  return _xavier_initializer\n",
    "\n",
    "def test_initialization_basic():\n",
    "    print(\"Running basic tests...\")\n",
    "    xavier_initializer = xavier_weight_init()\n",
    "    shape = (1,)\n",
    "    xavier_mat = xavier_initializer(shape)\n",
    "    assert xavier_mat.get_shape() == shape\n",
    "    \n",
    "    shape = (1, 2, 3)\n",
    "    xavier_mat = xavier_initializer(shape)\n",
    "    assert xavier_mat.get_shape() == shape\n",
    "    print(\"Basic (non-exhaustive) Xavier initialization tests pass\\n\")\n"
   ]
  },
  {
   "cell_type": "code",
   "execution_count": 8,
   "metadata": {
    "collapsed": false
   },
   "outputs": [
    {
     "name": "stdout",
     "output_type": "stream",
     "text": [
      "Running basic tests...\n",
      "Basic (non-exhaustive) Xavier initialization tests pass\n",
      "\n"
     ]
    }
   ],
   "source": [
    "test_initialization_basic()"
   ]
  },
  {
   "cell_type": "code",
   "execution_count": null,
   "metadata": {
    "collapsed": true
   },
   "outputs": [],
   "source": []
  }
 ],
 "metadata": {
  "kernelspec": {
   "display_name": "Python 3",
   "language": "python",
   "name": "python3"
  },
  "language_info": {
   "codemirror_mode": {
    "name": "ipython",
    "version": 3
   },
   "file_extension": ".py",
   "mimetype": "text/x-python",
   "name": "python",
   "nbconvert_exporter": "python",
   "pygments_lexer": "ipython3",
   "version": "3.4.3"
  }
 },
 "nbformat": 4,
 "nbformat_minor": 2
}
